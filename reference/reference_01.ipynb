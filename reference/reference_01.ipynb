{
 "cells": [
  {
   "cell_type": "code",
   "execution_count": null,
   "metadata": {},
   "outputs": [],
   "source": [
    "# 음악 제목, 아티스트 불러오는 코드인데, 20년도 꺼라 수정이 필요함\n",
    "\n",
    "# https://pastebin.com/Dy7eUFdS"
   ]
  },
  {
   "cell_type": "code",
   "execution_count": 1,
   "metadata": {},
   "outputs": [
    {
     "name": "stdout",
     "output_type": "stream",
     "text": [
      "Song and artist metadata are not available for this video.\n"
     ]
    }
   ],
   "source": [
    "import requests\n",
    "import json\n",
    "import re\n",
    " \n",
    "def get_yt_song_and_artist(youtube_url):\n",
    "    song_name = None\n",
    "    artist_name = None\n",
    " \n",
    "    r = requests.get(youtube_url)\n",
    " \n",
    "    raw_matches = re.findall('(\\{\"metadataRowRenderer\":.*?\\})(?=,{\"metadataRowRenderer\")', r.text)\n",
    "    json_objects = [json.loads(m) for m in raw_matches if '{\"simpleText\":\"Song\"}' in m or '{\"simpleText\":\"Artist\"}' in m] # [Song Data, Artist Data]\n",
    " \n",
    "    if len(json_objects) == 2:\n",
    "        song_contents = json_objects[0][\"metadataRowRenderer\"][\"contents\"][0]\n",
    "        artist_contents = json_objects[1][\"metadataRowRenderer\"][\"contents\"][0]\n",
    " \n",
    "        if \"runs\" in song_contents:\n",
    "            song_name = song_contents[\"runs\"][0][\"text\"]\n",
    "        else:\n",
    "            song_name = song_contents[\"simpleText\"]\n",
    "            \n",
    "        if \"runs\" in artist_contents:\n",
    "            artist_name = artist_contents[\"runs\"][0][\"text\"]\n",
    "        else:\n",
    "            artist_name = artist_contents[\"simpleText\"]\n",
    " \n",
    "    return song_name, artist_name\n",
    " \n",
    "song, artist = get_yt_song_and_artist(\"https://www.youtube.com/watch?v=psuRGfAaju4\")\n",
    " \n",
    "if song is not None and artist is not None:\n",
    "    print(artist + \" - \" + song)\n",
    "else:\n",
    "    print(\"Song and artist metadata are not available for this video.\")"
   ]
  },
  {
   "cell_type": "code",
   "execution_count": 5,
   "metadata": {},
   "outputs": [
    {
     "data": {
      "text/plain": [
       "(<Response [200]>, [])"
      ]
     },
     "execution_count": 5,
     "metadata": {},
     "output_type": "execute_result"
    }
   ],
   "source": [
    "youtube_url = \"https://music.youtube.com/watch?v=PErbSeBCjdY&feature=share\"\n",
    "\n",
    "r = requests.get(youtube_url)\n",
    "\n",
    "raw_matches = re.findall('(\\{\"metadataRowRenderer\":.*?\\})(?=,{\"metadataRowRenderer\")', r.text)\n",
    "\n",
    "r, raw_matches"
   ]
  }
 ],
 "metadata": {
  "kernelspec": {
   "display_name": "Python 3.8.8 ('base')",
   "language": "python",
   "name": "python3"
  },
  "language_info": {
   "codemirror_mode": {
    "name": "ipython",
    "version": 3
   },
   "file_extension": ".py",
   "mimetype": "text/x-python",
   "name": "python",
   "nbconvert_exporter": "python",
   "pygments_lexer": "ipython3",
   "version": "3.8.8"
  },
  "orig_nbformat": 4,
  "vscode": {
   "interpreter": {
    "hash": "6fadacfa025e07eb4c77286e29c2bec792c48bf5a1043e26a91e9ebde8011997"
   }
  }
 },
 "nbformat": 4,
 "nbformat_minor": 2
}
